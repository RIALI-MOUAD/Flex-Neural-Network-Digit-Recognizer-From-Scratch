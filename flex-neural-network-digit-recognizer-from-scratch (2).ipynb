{
 "cells": [
  {
   "cell_type": "code",
   "execution_count": null,
   "metadata": {},
   "outputs": [],
   "source": [
    "#MOUAD RIALI\n"   ]
  },
  {
   "cell_type": "code",
   "execution_count": 33,
   "metadata": {
    "_cell_guid": "b1076dfc-b9ad-4769-8c92-a6c4dae69d19",
    "_uuid": "8f2839f25d086af736a60e9eeb907d3b93b6e0e5"
   },
   "outputs": [
    {
     "name": "stdout",
     "output_type": "stream",
     "text": [
      "/kaggle/input/digit-recognizer/sample_submission.csv\n",
      "/kaggle/input/digit-recognizer/train.csv\n",
      "/kaggle/input/digit-recognizer/test.csv\n"
     ]
    }
   ],
   "source": [
    "# This Python 3 environment comes with many helpful analytics libraries installed\n",
    "# It is defined by the kaggle/python Docker image: https://github.com/kaggle/docker-python\n",
    "# For example, here's several helpful packages to load\n",
    "\n",
    "import numpy as np # linear algebra\n",
    "import pandas as pd # data processing, CSV file I/O (e.g. pd.read_csv)\n",
    "import matplotlib.pyplot as plt\n",
    "\n",
    "# Input data files are available in the read-only \"../input/\" directory\n",
    "# For example, running this (by clicking run or pressing Shift+Enter) will list all files under the input directory\n",
    "\n",
    "import os\n",
    "for dirname, _, filenames in os.walk('/kaggle/input'):\n",
    "    for filename in filenames:\n",
    "        print(os.path.join(dirname, filename))\n",
    "\n",
    "# You can write up to 20GB to the current directory (/kaggle/working/) that gets preserved as output when you create a version using \"Save & Run All\" \n",
    "# You can also write temporary files to /kaggle/temp/, but they won't be saved outside of the current session"
   ]
  },
  {
   "cell_type": "code",
   "execution_count": 19,
   "metadata": {},
   "outputs": [],
   "source": [
    "\n",
    "data = pd.read_csv('/kaggle/input/digit-recognizer/train.csv')\n",
    "data = np.array(data)\n",
    "m, n = data.shape\n",
    "np.random.shuffle(data) # shuffle before splitting into dev and training sets\n",
    "\n",
    "data_dev = data[0:1000].T\n",
    "Y_dev = data_dev[0]\n",
    "X_dev = data_dev[1:n]\n",
    "X_dev = X_dev / 255.\n",
    "\n",
    "data_train = data[1000:m].T\n",
    "Y_train = data_train[0]\n",
    "X_train = data_train[1:n]\n",
    "X_train = X_train / 255.\n",
    "_,m_train = X_train.shape"
   ]
  },
  {
   "cell_type": "code",
   "execution_count": 20,
   "metadata": {},
   "outputs": [
    {
     "data": {
      "text/plain": [
       "(784, 41000)"
      ]
     },
     "execution_count": 20,
     "metadata": {},
     "output_type": "execute_result"
    }
   ],
   "source": [
    "#W1, b1, W2, b2 = gradient_descent(X_train, Y_train, 0.10, 500)\n",
    "X_train.shape"
   ]
  },
  {
   "cell_type": "markdown",
   "metadata": {},
   "source": [
    "# **> Let's build our Flex NN :**"
   ]
  },
  {
   "cell_type": "code",
   "execution_count": 22,
   "metadata": {},
   "outputs": [],
   "source": [
    "def one(Y):\n",
    "    one_Y = np.zeros((Y.size, int(Y.max()) + 1))\n",
    "    one_Y[np.arange(Y.size), Y] = 1\n",
    "    one_Y = one_Y.T\n",
    "    return one_Y\n",
    "def tanH(x):\n",
    "    return np.tanh(x)\n",
    "def deriv_tanH(x):\n",
    "    return 1-np.tanh(x)**2\n",
    "        \n",
    "def softmax(Z):\n",
    "    return (np.exp(Z) / sum(np.exp(Z)))\n",
    "def softmax_grad(softmax):\n",
    "    # Reshape the 1-d softmax to 2-d so that np.dot will do the matrix multiplication\n",
    "    s = softmax.reshape(-1,1)\n",
    "    return np.diagflat(s) - np.dot(s, s.T)"
   ]
  },
  {
   "cell_type": "code",
   "execution_count": 23,
   "metadata": {},
   "outputs": [],
   "source": [
    "    \n",
    "class Layer :\n",
    "    def _init_(self,size):\n",
    "        self.size = size \n",
    "    def _initWeights_(self, parBef, parAct):\n",
    "        self.weights = np.random.rand(parAct, parBef) - 0.5\n",
    "        self.biais = np.random.rand(parAct, 1) - 0.5\n",
    "    def updateNodes(self,A):\n",
    "        self.A = A\n",
    "        #print(\"The new Values of nodes are : \",A.shape)\n",
    "    def updateWeights(self,W,b):\n",
    "        self.weights = W\n",
    "        self.biais = b"
   ]
  },
  {
   "cell_type": "code",
   "execution_count": 25,
   "metadata": {},
   "outputs": [],
   "source": [
    "class NeuralNetwork:\n",
    "    Layers = []\n",
    "    Z, dZ, dW, dB=[],[],[],[]\n",
    "    def _init_(self, L):\n",
    "        self.cL = len(L)\n",
    "        #self.m ,self.n = data.shape\n",
    "        \n",
    "    def add_Layer(self,layer):\n",
    "        self.Layers.append(layer)\n",
    "        print(\"Layer \",len(self.Layers),\" is added.\\nit has :\",layer.size,\" nodes\")    \n",
    "    def forward_prop(self,X):\n",
    "        self.Layers[0].updateNodes(X)\n",
    "        #self.Z.append(X)\n",
    "        for i in range(1,len(self.Layers)-1):  \n",
    "            layer = self.Layers[i-1]\n",
    "            Zi=layer.weights.dot(layer.A)+layer.biais\n",
    "            #print(Zi)\n",
    "            self.Z.append(Zi)\n",
    "            A = tanH(Zi)\n",
    "            self.Layers[i].updateNodes(A)\n",
    "        Y = self.Layers[-2].weights.dot(self.Layers[-2].A)+self.Layers[-2].biais\n",
    "        self.Z.append(Y)\n",
    "        A = softmax(Y)\n",
    "        #print(A)\n",
    "        self.Layers[-1].updateNodes(A)\n",
    "        return A\n",
    "    def BackPropLastLayer(self,Y, m):\n",
    "        dZ = self.Layers[-1].A - one(Y)\n",
    "        dW = 1/m * dZ.dot(self.Layers[-2].A.T)\n",
    "        db = 1/m * np.sum(dZ)\n",
    "        return dZ,dW,db\n",
    "    def BackpropHiddenLayers(self,dZA,Z,A,Theta,m):\n",
    "        dZ = Theta.T.dot(dZA) * deriv_tanH(Z)\n",
    "        dW = 1/m * dZ.dot(A.T)\n",
    "        #print(\"dZ :\",dZ.shape)\n",
    "        db = 1/m * np.sum(dZ)\n",
    "        return dZ,dW, db\n",
    "    def get_predictions(self):\n",
    "        return np.argmax(self.Layers[-1].A, 0)\n",
    "    def get_accuracy(self, Y):\n",
    "        print(self.get_predictions(), Y)\n",
    "        return np.sum(self.get_predictions() == Y) / Y.size\n",
    "    def gradient_descent(self, X, Y, iter, alpha,m):\n",
    "        for i in range(iter):\n",
    "            self.Z,self.dZ, self.dW,self.dB=[],[],[],[]\n",
    "            self.forward_prop(X)\n",
    "            dZ,dW,db = self.BackPropLastLayer(Y,m)\n",
    "            #print(\"dZ \",i,\":\",dZ.shape,\"dW :\",dW.shape,\"db : \",db)\n",
    "            self.dZ.append(dZ)\n",
    "            self.dW.append(dW)\n",
    "            self.dB.append(db)\n",
    "            for j in reversed(range(1,len(self.Layers)-1)):\n",
    "                #New_NN1.BackpropHiddenLayers(dZA,Z,New_NN1.Layers[-2].A,New_NN1.Layers[-2].weights,239)\n",
    "                dZ,dW,db = self.BackpropHiddenLayers(self.dZ[-1],self.Z[j-1],self.Layers[j-1].A,New_NN1.Layers[j].weights,m)\n",
    "                self.dZ.append(dZ)\n",
    "                self.dW.append(dW)\n",
    "                self.dB.append(db)\n",
    "                #print(\"dZ :\",dZ.shape,\"db : \",db)\n",
    "            #print(len(self.dZ),len(self.dW),len(self.dB))\n",
    "            #print(self.dB)\n",
    "            c = -1\n",
    "            for layer in reversed(self.Layers):\n",
    "                c+=1\n",
    "                if c <= 0 : pass\n",
    "                else : \n",
    "                    layer.updateWeights(layer.weights-self.dW[c-1],layer.biais-self.dB[c-1])\n",
    "                    #print(layer.weights.shape,layer.biais.shape)\n",
    "            if i % 10 == 0:\n",
    "                print(\"Iteration: \", i)\n",
    "                predictions = self.get_predictions()\n",
    "                print(self.get_accuracy(Y))\n",
    "                print(\"--------------------------------\")\n",
    "    def predict(self,X):\n",
    "        return self.forward_prop(X)\n",
    "    def test_prediction(self,index):\n",
    "        current_image = X_train[:, index, None]\n",
    "        prediction = self.predict(X_train[:, index, None])\n",
    "        label = Y_train[index]\n",
    "        print(\"Prediction: \", prediction)\n",
    "        print(\"Label: \", label)\n",
    "        current_image = current_image.reshape((28, 28)) * 255\n",
    "        plt.gray()\n",
    "        plt.imshow(current_image, interpolation='nearest')\n",
    "        plt.show()\n",
    "            "
   ]
  },
  {
   "cell_type": "code",
   "execution_count": 24,
   "metadata": {},
   "outputs": [],
   "source": [
    "def make_nn(L):\n",
    "    New_NN = NeuralNetwork()\n",
    "    New_NN._init_(L)\n",
    "    for i in range(len(L)):\n",
    "        layer = Layer()\n",
    "        layer._init_(L[i])\n",
    "        if i<len(L)-1: layer._initWeights_(L[i],L[i+1])\n",
    "        New_NN.add_Layer(layer)\n",
    "    return New_NN"
   ]
  },
  {
   "cell_type": "code",
   "execution_count": 21,
   "metadata": {},
   "outputs": [],
   "source": [
    "nb_features, nb_output = 784, 10\n",
    "L =[nb_features, 12,13,nb_output]"
   ]
  },
  {
   "cell_type": "code",
   "execution_count": 26,
   "metadata": {},
   "outputs": [
    {
     "name": "stdout",
     "output_type": "stream",
     "text": [
      "Layer  1  is added.\n",
      "it has : 784  nodes\n",
      "Layer  2  is added.\n",
      "it has : 12  nodes\n",
      "Layer  3  is added.\n",
      "it has : 13  nodes\n",
      "Layer  4  is added.\n",
      "it has : 10  nodes\n"
     ]
    },
    {
     "data": {
      "text/plain": [
       "[<__main__.Layer at 0x7f3083ff4650>,\n",
       " <__main__.Layer at 0x7f3083dc7050>,\n",
       " <__main__.Layer at 0x7f3083dc7750>,\n",
       " <__main__.Layer at 0x7f3083de6e10>]"
      ]
     },
     "execution_count": 26,
     "metadata": {},
     "output_type": "execute_result"
    }
   ],
   "source": [
    "New_NN1 = NeuralNetwork()\n",
    "New_NN1 = make_nn(L)\n",
    "New_NN1.Layers"
   ]
  },
  {
   "cell_type": "code",
   "execution_count": 27,
   "metadata": {},
   "outputs": [
    {
     "name": "stdout",
     "output_type": "stream",
     "text": [
      "Iteration:  0\n",
      "[3 0 0 ... 3 3 7] [2 0 5 ... 8 9 1]\n",
      "0.09726829268292683\n",
      "--------------------------------\n",
      "Iteration:  10\n",
      "[2 0 2 ... 8 4 1] [2 0 5 ... 8 9 1]\n",
      "0.5686341463414634\n",
      "--------------------------------\n",
      "Iteration:  20\n",
      "[2 0 5 ... 8 4 1] [2 0 5 ... 8 9 1]\n",
      "0.6883658536585365\n",
      "--------------------------------\n",
      "Iteration:  30\n",
      "[2 0 5 ... 8 4 1] [2 0 5 ... 8 9 1]\n",
      "0.7427317073170732\n",
      "--------------------------------\n",
      "Iteration:  40\n",
      "[2 0 5 ... 8 4 1] [2 0 5 ... 8 9 1]\n",
      "0.7746829268292683\n",
      "--------------------------------\n",
      "Iteration:  50\n",
      "[2 0 5 ... 8 4 1] [2 0 5 ... 8 9 1]\n",
      "0.7991951219512196\n",
      "--------------------------------\n",
      "Iteration:  60\n",
      "[2 0 5 ... 8 9 1] [2 0 5 ... 8 9 1]\n",
      "0.8173414634146341\n",
      "--------------------------------\n",
      "Iteration:  70\n",
      "[2 0 5 ... 8 9 1] [2 0 5 ... 8 9 1]\n",
      "0.831390243902439\n",
      "--------------------------------\n",
      "Iteration:  80\n",
      "[2 0 5 ... 8 9 1] [2 0 5 ... 8 9 1]\n",
      "0.8427317073170731\n",
      "--------------------------------\n",
      "Iteration:  90\n",
      "[2 0 5 ... 8 9 1] [2 0 5 ... 8 9 1]\n",
      "0.8510975609756097\n",
      "--------------------------------\n",
      "Iteration:  100\n",
      "[2 0 5 ... 8 9 1] [2 0 5 ... 8 9 1]\n",
      "0.8584146341463414\n",
      "--------------------------------\n",
      "Iteration:  110\n",
      "[2 0 5 ... 8 9 1] [2 0 5 ... 8 9 1]\n",
      "0.8645121951219512\n",
      "--------------------------------\n",
      "Iteration:  120\n",
      "[2 0 5 ... 8 9 1] [2 0 5 ... 8 9 1]\n",
      "0.8696585365853658\n",
      "--------------------------------\n",
      "Iteration:  130\n",
      "[2 0 5 ... 8 9 1] [2 0 5 ... 8 9 1]\n",
      "0.8744390243902439\n",
      "--------------------------------\n",
      "Iteration:  140\n",
      "[2 0 5 ... 8 9 1] [2 0 5 ... 8 9 1]\n",
      "0.8774390243902439\n",
      "--------------------------------\n",
      "Iteration:  150\n",
      "[2 0 5 ... 8 9 1] [2 0 5 ... 8 9 1]\n",
      "0.8806585365853659\n",
      "--------------------------------\n",
      "Iteration:  160\n",
      "[2 0 5 ... 8 9 1] [2 0 5 ... 8 9 1]\n",
      "0.8834634146341463\n",
      "--------------------------------\n",
      "Iteration:  170\n",
      "[2 0 5 ... 8 9 1] [2 0 5 ... 8 9 1]\n",
      "0.8860975609756098\n",
      "--------------------------------\n",
      "Iteration:  180\n",
      "[2 0 5 ... 8 9 1] [2 0 5 ... 8 9 1]\n",
      "0.8884634146341464\n",
      "--------------------------------\n",
      "Iteration:  190\n",
      "[2 0 5 ... 8 9 1] [2 0 5 ... 8 9 1]\n",
      "0.8905365853658537\n",
      "--------------------------------\n",
      "Iteration:  200\n",
      "[2 0 5 ... 8 9 1] [2 0 5 ... 8 9 1]\n",
      "0.8924390243902439\n",
      "--------------------------------\n",
      "Iteration:  210\n",
      "[2 0 5 ... 8 9 1] [2 0 5 ... 8 9 1]\n",
      "0.8944390243902439\n",
      "--------------------------------\n",
      "Iteration:  220\n",
      "[2 0 5 ... 8 9 1] [2 0 5 ... 8 9 1]\n",
      "0.8963170731707317\n",
      "--------------------------------\n",
      "Iteration:  230\n",
      "[2 0 5 ... 8 9 1] [2 0 5 ... 8 9 1]\n",
      "0.8986341463414634\n",
      "--------------------------------\n",
      "Iteration:  240\n",
      "[2 0 5 ... 8 9 1] [2 0 5 ... 8 9 1]\n",
      "0.9001219512195122\n",
      "--------------------------------\n",
      "Iteration:  250\n",
      "[2 0 5 ... 8 9 1] [2 0 5 ... 8 9 1]\n",
      "0.9013170731707317\n",
      "--------------------------------\n",
      "Iteration:  260\n",
      "[2 0 5 ... 8 9 1] [2 0 5 ... 8 9 1]\n",
      "0.9029756097560976\n",
      "--------------------------------\n",
      "Iteration:  270\n",
      "[2 0 5 ... 8 9 1] [2 0 5 ... 8 9 1]\n",
      "0.9042682926829269\n",
      "--------------------------------\n",
      "Iteration:  280\n",
      "[2 0 5 ... 8 9 1] [2 0 5 ... 8 9 1]\n",
      "0.9056585365853659\n",
      "--------------------------------\n",
      "Iteration:  290\n",
      "[2 0 5 ... 8 9 1] [2 0 5 ... 8 9 1]\n",
      "0.9071463414634147\n",
      "--------------------------------\n",
      "Iteration:  300\n",
      "[2 0 5 ... 8 9 1] [2 0 5 ... 8 9 1]\n",
      "0.9084146341463415\n",
      "--------------------------------\n",
      "Iteration:  310\n",
      "[2 0 5 ... 8 9 1] [2 0 5 ... 8 9 1]\n",
      "0.9097317073170732\n",
      "--------------------------------\n",
      "Iteration:  320\n",
      "[2 0 5 ... 8 9 1] [2 0 5 ... 8 9 1]\n",
      "0.9110243902439025\n",
      "--------------------------------\n",
      "Iteration:  330\n",
      "[2 0 5 ... 8 9 1] [2 0 5 ... 8 9 1]\n",
      "0.9122926829268293\n",
      "--------------------------------\n",
      "Iteration:  340\n",
      "[2 0 5 ... 8 9 1] [2 0 5 ... 8 9 1]\n",
      "0.913609756097561\n",
      "--------------------------------\n",
      "Iteration:  350\n",
      "[2 0 5 ... 8 9 1] [2 0 5 ... 8 9 1]\n",
      "0.9143658536585366\n",
      "--------------------------------\n",
      "Iteration:  360\n",
      "[2 0 5 ... 8 9 1] [2 0 5 ... 8 9 1]\n",
      "0.9153170731707317\n",
      "--------------------------------\n",
      "Iteration:  370\n",
      "[2 0 5 ... 8 9 1] [2 0 5 ... 8 9 1]\n",
      "0.9161463414634147\n",
      "--------------------------------\n",
      "Iteration:  380\n",
      "[2 0 5 ... 8 9 1] [2 0 5 ... 8 9 1]\n",
      "0.9168536585365854\n",
      "--------------------------------\n",
      "Iteration:  390\n",
      "[2 0 5 ... 8 9 1] [2 0 5 ... 8 9 1]\n",
      "0.9176829268292683\n",
      "--------------------------------\n",
      "Iteration:  400\n",
      "[2 0 5 ... 8 9 1] [2 0 5 ... 8 9 1]\n",
      "0.9186341463414635\n",
      "--------------------------------\n",
      "Iteration:  410\n",
      "[2 0 5 ... 8 9 1] [2 0 5 ... 8 9 1]\n",
      "0.9196341463414635\n",
      "--------------------------------\n",
      "Iteration:  420\n",
      "[2 0 5 ... 8 9 1] [2 0 5 ... 8 9 1]\n",
      "0.9205121951219513\n",
      "--------------------------------\n",
      "Iteration:  430\n",
      "[2 0 5 ... 8 9 1] [2 0 5 ... 8 9 1]\n",
      "0.9214146341463415\n",
      "--------------------------------\n",
      "Iteration:  440\n",
      "[2 0 5 ... 8 9 1] [2 0 5 ... 8 9 1]\n",
      "0.9223658536585366\n",
      "--------------------------------\n",
      "Iteration:  450\n",
      "[2 0 5 ... 8 9 1] [2 0 5 ... 8 9 1]\n",
      "0.9229512195121952\n",
      "--------------------------------\n",
      "Iteration:  460\n",
      "[2 0 5 ... 8 9 1] [2 0 5 ... 8 9 1]\n",
      "0.9239024390243903\n",
      "--------------------------------\n",
      "Iteration:  470\n",
      "[2 0 5 ... 8 9 1] [2 0 5 ... 8 9 1]\n",
      "0.9245853658536586\n",
      "--------------------------------\n",
      "Iteration:  480\n",
      "[2 0 5 ... 8 9 1] [2 0 5 ... 8 9 1]\n",
      "0.9251707317073171\n",
      "--------------------------------\n",
      "Iteration:  490\n",
      "[2 0 5 ... 8 9 1] [2 0 5 ... 8 9 1]\n",
      "0.9254878048780488\n",
      "--------------------------------\n"
     ]
    }
   ],
   "source": [
    "#gradient_descent(self, X, Y, iter, alpha,m)\n",
    "New_NN1.gradient_descent(X_train,Y_train,500,0.1,41000)"
   ]
  },
  {
   "cell_type": "code",
   "execution_count": 31,
   "metadata": {
    "_kg_hide-output": true
   },
   "outputs": [],
   "source": [
    "def test_prediction(NN,index):\n",
    "    current_image = X_train[:, index, None]\n",
    "    prediction = NN.predict(X_train[:, index, None])\n",
    "    label = Y_train[index]\n",
    "    print(\"Prediction: \", prediction)\n",
    "    print(\"Label: \", label)\n",
    "    current_image = current_image.reshape((28, 28)) * 255\n",
    "    plt.gray()\n",
    "    plt.imshow(current_image, interpolation='nearest')\n",
    "    plt.show()    \n"
   ]
  },
  {
   "cell_type": "code",
   "execution_count": 39,
   "metadata": {},
   "outputs": [
    {
     "name": "stdout",
     "output_type": "stream",
     "text": [
      "Prediction:  [[2.91592855e-05]\n",
      " [4.08440895e-05]\n",
      " [6.17944319e-04]\n",
      " [6.12224192e-06]\n",
      " [5.41365483e-03]\n",
      " [1.40313152e-04]\n",
      " [9.91936933e-01]\n",
      " [6.34971964e-07]\n",
      " [1.77713366e-03]\n",
      " [3.72604353e-05]]\n",
      "Label:  6\n"
     ]
    },
    {
     "data": {
      "image/png": "[encoded data removed]",
      "text/plain": [
       "<Figure size 432x288 with 1 Axes>"
      ]
     },
     "metadata": {
      "needs_background": "light"
     },
     "output_type": "display_data"
    }
   ],
   "source": [
    "test_prediction(New_NN1,56)"
   ]
  },
  {
   "cell_type": "code",
   "execution_count": 40,
   "metadata": {},
   "outputs": [
    {
     "name": "stdout",
     "output_type": "stream",
     "text": [
      "Prediction:  [[2.35748406e-04]\n",
      " [2.20492562e-04]\n",
      " [2.49129571e-02]\n",
      " [3.96072234e-02]\n",
      " [1.14552711e-03]\n",
      " [5.50714524e-01]\n",
      " [5.48692591e-03]\n",
      " [5.08854097e-06]\n",
      " [3.74436213e-01]\n",
      " [3.23529979e-03]]\n",
      "Label:  5\n"
     ]
    },
    {
     "data": {
      "image/png": "[encoded data removed]",
      "text/plain": [
       "<Figure size 432x288 with 1 Axes>"
      ]
     },
     "metadata": {
      "needs_background": "light"
     },
     "output_type": "display_data"
    }
   ],
   "source": [
    "test_prediction(New_NN1,560)"
   ]
  },
  {
   "cell_type": "code",
   "execution_count": 41,
   "metadata": {},
   "outputs": [
    {
     "name": "stdout",
     "output_type": "stream",
     "text": [
      "Prediction:  [[1.03088293e-02]\n",
      " [1.17815232e-06]\n",
      " [1.31869252e-04]\n",
      " [2.10936825e-03]\n",
      " [8.92434738e-04]\n",
      " [9.48199861e-01]\n",
      " [2.61370937e-02]\n",
      " [6.28808655e-05]\n",
      " [7.40236059e-03]\n",
      " [4.75412370e-03]]\n",
      "Label:  5\n"
     ]
    },
    {
     "data": {
      "image/png": "[encoded data removed]",
      "text/plain": [
       "<Figure size 432x288 with 1 Axes>"
      ]
     },
     "metadata": {
      "needs_background": "light"
     },
     "output_type": "display_data"
    }
   ],
   "source": [
    "test_prediction(New_NN1,2)"
   ]
  },
  {
   "cell_type": "code",
   "execution_count": 42,
   "metadata": {},
   "outputs": [
    {
     "name": "stdout",
     "output_type": "stream",
     "text": [
      "Prediction:  [[2.35379046e-04]\n",
      " [6.99195651e-05]\n",
      " [7.91902894e-05]\n",
      " [4.94203701e-04]\n",
      " [1.55797817e-04]\n",
      " [8.87189369e-06]\n",
      " [2.02017849e-07]\n",
      " [9.93868235e-01]\n",
      " [1.36870375e-04]\n",
      " [4.95133012e-03]]\n",
      "Label:  7\n"
     ]
    },
    {
     "data": {
      "image/png": "[encoded data removed]",
      "text/plain": [
       "<Figure size 432x288 with 1 Axes>"
      ]
     },
     "metadata": {
      "needs_background": "light"
     },
     "output_type": "display_data"
    }
   ],
   "source": [
    "test_prediction(New_NN1,10000)"
   ]
  },
  {
   "cell_type": "code",
   "execution_count": 43,
   "metadata": {},
   "outputs": [
    {
     "name": "stdout",
     "output_type": "stream",
     "text": [
      "Prediction:  [[9.91413767e-01]\n",
      " [1.04101717e-06]\n",
      " [1.50280248e-04]\n",
      " [7.31678172e-05]\n",
      " [7.26304179e-05]\n",
      " [5.16588884e-03]\n",
      " [1.87430188e-03]\n",
      " [1.09213479e-03]\n",
      " [1.04877646e-04]\n",
      " [5.19107188e-05]]\n",
      "Label:  0\n"
     ]
    },
    {
     "data": {
      "image/png": "[encoded data removed]",
      "text/plain": [
       "<Figure size 432x288 with 1 Axes>"
      ]
     },
     "metadata": {
      "needs_background": "light"
     },
     "output_type": "display_data"
    }
   ],
   "source": [
    "test_prediction(New_NN1,30000)"
   ]
  },
  {
   "cell_type": "code",
   "execution_count": null,
   "metadata": {},
   "outputs": [],
   "source": []
  }
 ],
 "metadata": {
  "kernelspec": {
   "display_name": "Python 3",
   "language": "python",
   "name": "python3"
  },
  "language_info": {
   "codemirror_mode": {
    "name": "ipython",
    "version": 3
   },
   "file_extension": ".py",
   "mimetype": "text/x-python",
   "name": "python",
   "nbconvert_exporter": "python",
   "pygments_lexer": "ipython3",
   "version": "3.8.5"
  }
 },
 "nbformat": 4,
 "nbformat_minor": 4
}
